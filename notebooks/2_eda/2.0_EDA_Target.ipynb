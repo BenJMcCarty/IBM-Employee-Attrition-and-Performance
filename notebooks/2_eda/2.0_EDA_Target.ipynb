{
 "cells": [
  {
   "cell_type": "markdown",
   "metadata": {},
   "source": [
    "# EDA"
   ]
  },
  {
   "cell_type": "markdown",
   "metadata": {},
   "source": [
    "## Imports"
   ]
  },
  {
   "cell_type": "code",
   "execution_count": 3,
   "metadata": {},
   "outputs": [],
   "source": [
    "import json\n",
    "# import matplotlib.pyplot as plt\n",
    "import numpy as np\n",
    "import pandas as pd\n",
    "# import seaborn as sns"
   ]
  },
  {
   "cell_type": "markdown",
   "metadata": {},
   "source": [
    "## Data"
   ]
  },
  {
   "cell_type": "code",
   "execution_count": 4,
   "metadata": {},
   "outputs": [
    {
     "data": {
      "text/plain": [
       "{'source': '../../data/WA_Fn-UseC_-HR-Employee-Attrition.csv',\n",
       " 'feature_types': {'feature_names_categorical': ['BusinessTravel',\n",
       "   'Department',\n",
       "   'EducationField',\n",
       "   'Gender',\n",
       "   'JobRole',\n",
       "   'MaritalStatus',\n",
       "   'OverTime'],\n",
       "  'feature_names_continuous': ['Age',\n",
       "   'DailyRate',\n",
       "   'DistanceFromHome',\n",
       "   'EmployeeNumber',\n",
       "   'HourlyRate',\n",
       "   'MonthlyIncome',\n",
       "   'MonthlyRate',\n",
       "   'NumCompaniesWorked',\n",
       "   'PercentSalaryHike',\n",
       "   'TotalWorkingYears',\n",
       "   'TrainingTimesLastYear',\n",
       "   'YearsAtCompany',\n",
       "   'YearsInCurrentRole',\n",
       "   'YearsSinceLastPromotion',\n",
       "   'YearsWithCurrManager'],\n",
       "  'feature_names_ordinal': ['PerformanceRating',\n",
       "   'RelationshipSatisfaction',\n",
       "   'EnvironmentSatisfaction',\n",
       "   'WorkLifeBalance',\n",
       "   'JobInvolvement',\n",
       "   'StockOptionLevel',\n",
       "   'JobSatisfaction',\n",
       "   'JobLevel',\n",
       "   'Education']},\n",
       " 'target_feature': ['Attrition']}"
      ]
     },
     "execution_count": 4,
     "metadata": {},
     "output_type": "execute_result"
    }
   ],
   "source": [
    "## Read configured settings from JSON file\n",
    "\n",
    "with open('../../config/Shared_Settings.json', 'r') as file:\n",
    "    settings = json.load(file)\n",
    "    \n",
    "settings"
   ]
  },
  {
   "cell_type": "code",
   "execution_count": 5,
   "metadata": {},
   "outputs": [
    {
     "data": {
      "text/html": [
       "<div>\n",
       "<style scoped>\n",
       "    .dataframe tbody tr th:only-of-type {\n",
       "        vertical-align: middle;\n",
       "    }\n",
       "\n",
       "    .dataframe tbody tr th {\n",
       "        vertical-align: top;\n",
       "    }\n",
       "\n",
       "    .dataframe thead th {\n",
       "        text-align: right;\n",
       "    }\n",
       "</style>\n",
       "<table border=\"1\" class=\"dataframe\">\n",
       "  <thead>\n",
       "    <tr style=\"text-align: right;\">\n",
       "      <th></th>\n",
       "      <th>Attrition</th>\n",
       "    </tr>\n",
       "  </thead>\n",
       "  <tbody>\n",
       "    <tr>\n",
       "      <th>0</th>\n",
       "      <td>Yes</td>\n",
       "    </tr>\n",
       "    <tr>\n",
       "      <th>1</th>\n",
       "      <td>No</td>\n",
       "    </tr>\n",
       "    <tr>\n",
       "      <th>2</th>\n",
       "      <td>Yes</td>\n",
       "    </tr>\n",
       "    <tr>\n",
       "      <th>3</th>\n",
       "      <td>No</td>\n",
       "    </tr>\n",
       "    <tr>\n",
       "      <th>4</th>\n",
       "      <td>No</td>\n",
       "    </tr>\n",
       "    <tr>\n",
       "      <th>...</th>\n",
       "      <td>...</td>\n",
       "    </tr>\n",
       "    <tr>\n",
       "      <th>1465</th>\n",
       "      <td>No</td>\n",
       "    </tr>\n",
       "    <tr>\n",
       "      <th>1466</th>\n",
       "      <td>No</td>\n",
       "    </tr>\n",
       "    <tr>\n",
       "      <th>1467</th>\n",
       "      <td>No</td>\n",
       "    </tr>\n",
       "    <tr>\n",
       "      <th>1468</th>\n",
       "      <td>No</td>\n",
       "    </tr>\n",
       "    <tr>\n",
       "      <th>1469</th>\n",
       "      <td>No</td>\n",
       "    </tr>\n",
       "  </tbody>\n",
       "</table>\n",
       "<p>1470 rows × 1 columns</p>\n",
       "</div>"
      ],
      "text/plain": [
       "     Attrition\n",
       "0          Yes\n",
       "1           No\n",
       "2          Yes\n",
       "3           No\n",
       "4           No\n",
       "...        ...\n",
       "1465        No\n",
       "1466        No\n",
       "1467        No\n",
       "1468        No\n",
       "1469        No\n",
       "\n",
       "[1470 rows x 1 columns]"
      ]
     },
     "execution_count": 5,
     "metadata": {},
     "output_type": "execute_result"
    }
   ],
   "source": [
    "target_data = pd.read_csv(settings['source'], usecols = settings['target_feature'])\n",
    "target_data"
   ]
  },
  {
   "cell_type": "code",
   "execution_count": 6,
   "metadata": {},
   "outputs": [
    {
     "data": {
      "text/plain": [
       "Attrition\n",
       "No     0.8388\n",
       "Yes    0.1612\n",
       "Name: proportion, dtype: float64"
      ]
     },
     "execution_count": 6,
     "metadata": {},
     "output_type": "execute_result"
    }
   ],
   "source": [
    "target_data.loc[:, 'Attrition'].value_counts(normalize=True).round(4)"
   ]
  },
  {
   "cell_type": "markdown",
   "metadata": {},
   "source": [
    "# Notes"
   ]
  },
  {
   "cell_type": "markdown",
   "metadata": {},
   "source": [
    "---\n",
    "\n",
    "**Target Composition**\n",
    "\n",
    "> The target is a binary feature indicating whether an employee quit.\n",
    ">\n",
    ">\n",
    "> The feature's classes are imbalanced in favor of the \"No\" class.\n",
    ">   - This needs to be addressed as part of the modeling pipeline\n",
    "\n",
    "---"
   ]
  },
  {
   "cell_type": "markdown",
   "metadata": {},
   "source": []
  }
 ],
 "metadata": {
  "kernelspec": {
   "display_name": "Python (dojo-env)",
   "language": "python",
   "name": "dojo-env"
  },
  "language_info": {
   "codemirror_mode": {
    "name": "ipython",
    "version": 3
   },
   "file_extension": ".py",
   "mimetype": "text/x-python",
   "name": "python",
   "nbconvert_exporter": "python",
   "pygments_lexer": "ipython3",
   "version": "3.10.10"
  }
 },
 "nbformat": 4,
 "nbformat_minor": 2
}
